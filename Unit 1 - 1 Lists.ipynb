{
 "cells": [
  {
   "cell_type": "markdown",
   "metadata": {},
   "source": [
    "# `list`ing all the things I like about Python\n",
    "The `list` data type.\n",
    "\n",
    "![Gaming gif](https://media.giphy.com/media/MJ4Qi9dSACpLG/giphy.gif)"
   ]
  },
  {
   "cell_type": "markdown",
   "metadata": {},
   "source": [
    "---\n",
    "# Notes\n",
    "\n",
    "## Revisit Datatypes\n",
    "Name                  | Data Type | Example\n",
    "--------------------  | --------- | -------\n",
    "Integer               | `int`     | 7\n",
    "Floating-point number | `float`   | 3.5\n",
    "Boolean               | `bool`    | True or False (1 or 0)\n",
    "String                | `str`     | \"Mr. Ubial is cool.\"\n"
   ]
  },
  {
   "cell_type": "code",
   "execution_count": 4,
   "metadata": {},
   "outputs": [
    {
     "data": {
      "text/plain": [
       "str"
      ]
     },
     "execution_count": 4,
     "metadata": {},
     "output_type": "execute_result"
    }
   ],
   "source": [
    "# Use the type function to find out the types of things\n",
    "type(\"This is a string\")"
   ]
  },
  {
   "cell_type": "markdown",
   "metadata": {},
   "source": [
    "## The `list` datatype\n",
    "\n",
    "`lists` are types of data that have square brackets around them\n",
    "\n",
    "You can store different types of data inside."
   ]
  },
  {
   "cell_type": "code",
   "execution_count": 10,
   "metadata": {},
   "outputs": [
    {
     "data": {
      "text/plain": [
       "list"
      ]
     },
     "execution_count": 10,
     "metadata": {},
     "output_type": "execute_result"
    }
   ],
   "source": [
    "some_list = [1, 2, 3, 4, 5, 6, 7]\n",
    "type(some_list)"
   ]
  },
  {
   "cell_type": "code",
   "execution_count": 14,
   "metadata": {},
   "outputs": [
    {
     "data": {
      "text/plain": [
       "'sodium'"
      ]
     },
     "execution_count": 14,
     "metadata": {},
     "output_type": "execute_result"
    }
   ],
   "source": [
    "# index 0th       1st              2nd      3rd\n",
    "list = [\"helium\", \"rutherfordium\", \"neon\", \"sodium\"]\n",
    "list[3]\n",
    "# we can access things inside the list with INDICES"
   ]
  },
  {
   "cell_type": "code",
   "execution_count": 16,
   "metadata": {},
   "outputs": [
    {
     "data": {
      "text/plain": [
       "tuple"
      ]
     },
     "execution_count": 16,
     "metadata": {},
     "output_type": "execute_result"
    }
   ],
   "source": [
    "other_list = (\"Hydrogen\", \"Helium\", \"Sodium\", \"Potassium\")\n",
    "other_list[0]\n",
    "type(other_list) # THIS IS A TUPLE"
   ]
  },
  {
   "cell_type": "markdown",
   "metadata": {},
   "source": [
    "**`lists`** and **`tuples`** are datatypes that can contain   \n",
    "more than one value.\n",
    "\n",
    "The main difference between `lists` and  \n",
    "`tuples` are that `lists` are **mutable**.\n",
    "\n",
    "**Mutability** is a property that describes  \n",
    "whether or not you can change a value."
   ]
  },
  {
   "cell_type": "code",
   "execution_count": 18,
   "metadata": {},
   "outputs": [
    {
     "name": "stdout",
     "output_type": "stream",
     "text": [
      "25\n",
      "30\n"
     ]
    }
   ],
   "source": [
    "number_list = [10, 20, 25]\n",
    "print(number_list[2])  # 25\n",
    "number_list[2] = 30\n",
    "print(number_list[2])  # CHANGED TO 35"
   ]
  },
  {
   "cell_type": "code",
   "execution_count": 20,
   "metadata": {},
   "outputs": [
    {
     "name": "stdout",
     "output_type": "stream",
     "text": [
      "255\n"
     ]
    },
    {
     "ename": "TypeError",
     "evalue": "'tuple' object does not support item assignment",
     "output_type": "error",
     "traceback": [
      "\u001b[0;31m---------------------------------------------------------------------------\u001b[0m",
      "\u001b[0;31mTypeError\u001b[0m                                 Traceback (most recent call last)",
      "\u001b[0;32m<ipython-input-20-c6568c070e69>\u001b[0m in \u001b[0;36m<module>\u001b[0;34m\u001b[0m\n\u001b[1;32m      1\u001b[0m \u001b[0mrgb\u001b[0m \u001b[0;34m=\u001b[0m \u001b[0;34m(\u001b[0m\u001b[0;36m255\u001b[0m\u001b[0;34m,\u001b[0m \u001b[0;36m255\u001b[0m\u001b[0;34m,\u001b[0m \u001b[0;36m255\u001b[0m\u001b[0;34m)\u001b[0m\u001b[0;34m\u001b[0m\u001b[0;34m\u001b[0m\u001b[0m\n\u001b[1;32m      2\u001b[0m \u001b[0mprint\u001b[0m\u001b[0;34m(\u001b[0m\u001b[0mrgb\u001b[0m\u001b[0;34m[\u001b[0m\u001b[0;36m0\u001b[0m\u001b[0;34m]\u001b[0m\u001b[0;34m)\u001b[0m          \u001b[0;31m# 255\u001b[0m\u001b[0;34m\u001b[0m\u001b[0;34m\u001b[0m\u001b[0m\n\u001b[0;32m----> 3\u001b[0;31m \u001b[0mrgb\u001b[0m\u001b[0;34m[\u001b[0m\u001b[0;36m0\u001b[0m\u001b[0;34m]\u001b[0m \u001b[0;34m=\u001b[0m \u001b[0;36m0\u001b[0m             \u001b[0;31m# this will BREAK\u001b[0m\u001b[0;34m\u001b[0m\u001b[0;34m\u001b[0m\u001b[0m\n\u001b[0m",
      "\u001b[0;31mTypeError\u001b[0m: 'tuple' object does not support item assignment"
     ]
    }
   ],
   "source": [
    "rgb = (255, 255, 255)\n",
    "print(rgb[0])          # 255\n",
    "rgb[0] = 0             # this will BREAK"
   ]
  },
  {
   "cell_type": "markdown",
   "metadata": {},
   "source": [
    "## Iterating over `lists`\n",
    "It's really useful to loop through items  \n",
    "inside lists. You can do that using  \n",
    "a specific type of `for` loop.\n",
    "\n",
    "`for` _individual element_ `in` _list_:"
   ]
  },
  {
   "cell_type": "code",
   "execution_count": 22,
   "metadata": {
    "tags": []
   },
   "outputs": [
    {
     "name": "stdout",
     "output_type": "stream",
     "text": [
      "You're going to need chips.\n",
      "-------\n",
      "You're going to need ice cream.\n",
      "-------\n",
      "You're going to need shallots.\n",
      "-------\n",
      "You're going to need sugary cereal.\n",
      "-------\n"
     ]
    }
   ],
   "source": [
    "grocery_list = [\n",
    "    \"chips\",\n",
    "    \"ice cream\",\n",
    "    \"shallots\",\n",
    "    \"sugary cereal\"\n",
    "]\n",
    "# for each item in the list write out\n",
    "# You're going to need before the item\n",
    "for item in grocery_list:\n",
    "    print(f\"You're going to need {item}.\")\n",
    "    print(\"-------\")"
   ]
  },
  {
   "cell_type": "code",
   "execution_count": 23,
   "metadata": {
    "tags": []
   },
   "outputs": [
    {
     "name": "stdout",
     "output_type": "stream",
     "text": [
      "148\n",
      "Average age = 16.444444444444443\n"
     ]
    }
   ],
   "source": [
    "age_list = [16, 17, 16, 17, 17, 17, 16, 16, 16]\n",
    "total = 0\n",
    "\n",
    "for age in age_list:\n",
    "    total += age\n",
    "\n",
    "print(total)\n",
    "print(f\"Average age = {total/len(age_list)}\")"
   ]
  },
  {
   "cell_type": "markdown",
   "metadata": {},
   "source": [
    "## Two-Dimensional `list`s"
   ]
  },
  {
   "cell_type": "code",
   "execution_count": 27,
   "metadata": {
    "tags": []
   },
   "outputs": [
    {
     "name": "stdout",
     "output_type": "stream",
     "text": [
      "Name: John Schmetterling\n",
      "Student Number: 100001\n",
      "--------\n",
      "Name: Donald J. Trumper\n",
      "Student Number: 100002\n",
      "--------\n",
      "Name: Joseph Biden\n",
      "Student Number: 100003\n",
      "--------\n",
      "Name: Sanic\n",
      "Student Number: 100004\n",
      "--------\n"
     ]
    }
   ],
   "source": [
    "student_list = [\n",
    "    [100001, \"John Schmetterling\"],\n",
    "    [100002, \"Donald J. Trumper\"],\n",
    "    [100003, \"Joseph Biden\"],\n",
    "    [100004, \"Sanic\"]\n",
    "]\n",
    "\n",
    "student_list[3][1] # how to access values\n",
    "\n",
    "for student in student_list:\n",
    "    print(f\"Name: {student[1]}\")\n",
    "    print(f\"Student Number: {student[0]}\")\n",
    "    print(\"--------\")"
   ]
  },
  {
   "cell_type": "markdown",
   "metadata": {},
   "source": [
    "## `len()` function\n",
    "`len()` returns the length of a list"
   ]
  },
  {
   "cell_type": "code",
   "execution_count": 29,
   "metadata": {},
   "outputs": [
    {
     "data": {
      "text/plain": [
       "10"
      ]
     },
     "execution_count": 29,
     "metadata": {},
     "output_type": "execute_result"
    }
   ],
   "source": [
    "len([0, 1, 2, 3, 4, 5, 6, 7, 8, 9])"
   ]
  },
  {
   "cell_type": "code",
   "execution_count": 31,
   "metadata": {},
   "outputs": [
    {
     "data": {
      "text/plain": [
       "100"
      ]
     },
     "execution_count": 31,
     "metadata": {},
     "output_type": "execute_result"
    }
   ],
   "source": [
    "# ADVANCED concept\n",
    "# create (initialize) a list of 100 0s\n",
    "zero_list = [0] * 100\n",
    "len(zero_list)"
   ]
  },
  {
   "cell_type": "markdown",
   "metadata": {},
   "source": [
    "## Aside: List Comprehensions (__Advanced__)\n",
    "\n",
    "If you want to create a for loop in one line, you can use a list comprehension."
   ]
  },
  {
   "cell_type": "code",
   "execution_count": 34,
   "metadata": {},
   "outputs": [
    {
     "data": {
      "text/plain": [
       "100"
      ]
     },
     "execution_count": 34,
     "metadata": {},
     "output_type": "execute_result"
    }
   ],
   "source": [
    "string_list = [\"googely moogely\" for i in range(100)]\n",
    "len(string_list)"
   ]
  },
  {
   "cell_type": "code",
   "execution_count": 43,
   "metadata": {},
   "outputs": [
    {
     "data": {
      "text/plain": [
       "[2,\n",
       " 4,\n",
       " 8,\n",
       " 16,\n",
       " 32,\n",
       " 64,\n",
       " 128,\n",
       " 256,\n",
       " 512,\n",
       " 1024,\n",
       " 2048,\n",
       " 4096,\n",
       " 8192,\n",
       " 16384,\n",
       " 32768,\n",
       " 65536,\n",
       " 131072,\n",
       " 262144,\n",
       " 524288,\n",
       " 1048576,\n",
       " 2097152,\n",
       " 4194304,\n",
       " 8388608,\n",
       " 16777216,\n",
       " 33554432,\n",
       " 67108864,\n",
       " 134217728,\n",
       " 268435456,\n",
       " 536870912,\n",
       " 1073741824,\n",
       " 2147483648,\n",
       " 4294967296,\n",
       " 8589934592,\n",
       " 17179869184,\n",
       " 34359738368,\n",
       " 68719476736,\n",
       " 137438953472,\n",
       " 274877906944,\n",
       " 549755813888,\n",
       " 1099511627776,\n",
       " 2199023255552,\n",
       " 4398046511104,\n",
       " 8796093022208,\n",
       " 17592186044416,\n",
       " 35184372088832,\n",
       " 70368744177664,\n",
       " 140737488355328,\n",
       " 281474976710656,\n",
       " 562949953421312,\n",
       " 1125899906842624,\n",
       " 2251799813685248,\n",
       " 4503599627370496,\n",
       " 9007199254740992,\n",
       " 18014398509481984,\n",
       " 36028797018963968,\n",
       " 72057594037927936,\n",
       " 144115188075855872,\n",
       " 288230376151711744,\n",
       " 576460752303423488,\n",
       " 1152921504606846976,\n",
       " 2305843009213693952,\n",
       " 4611686018427387904,\n",
       " 9223372036854775808,\n",
       " 18446744073709551616,\n",
       " 36893488147419103232,\n",
       " 73786976294838206464,\n",
       " 147573952589676412928,\n",
       " 295147905179352825856,\n",
       " 590295810358705651712,\n",
       " 1180591620717411303424,\n",
       " 2361183241434822606848,\n",
       " 4722366482869645213696,\n",
       " 9444732965739290427392,\n",
       " 18889465931478580854784,\n",
       " 37778931862957161709568,\n",
       " 75557863725914323419136,\n",
       " 151115727451828646838272,\n",
       " 302231454903657293676544,\n",
       " 604462909807314587353088,\n",
       " 1208925819614629174706176,\n",
       " 2417851639229258349412352,\n",
       " 4835703278458516698824704,\n",
       " 9671406556917033397649408,\n",
       " 19342813113834066795298816,\n",
       " 38685626227668133590597632,\n",
       " 77371252455336267181195264,\n",
       " 154742504910672534362390528,\n",
       " 309485009821345068724781056,\n",
       " 618970019642690137449562112,\n",
       " 1237940039285380274899124224,\n",
       " 2475880078570760549798248448,\n",
       " 4951760157141521099596496896,\n",
       " 9903520314283042199192993792,\n",
       " 19807040628566084398385987584,\n",
       " 39614081257132168796771975168,\n",
       " 79228162514264337593543950336,\n",
       " 158456325028528675187087900672,\n",
       " 316912650057057350374175801344,\n",
       " 633825300114114700748351602688,\n",
       " 1267650600228229401496703205376]"
      ]
     },
     "execution_count": 43,
     "metadata": {},
     "output_type": "execute_result"
    }
   ],
   "source": [
    "# list ascending from 1 to 100\n",
    "ascending_list = [2**(i+1) for i in range(100)]\n",
    "ascending_list"
   ]
  },
  {
   "cell_type": "markdown",
   "metadata": {},
   "source": [
    "## `sum()` function"
   ]
  },
  {
   "cell_type": "code",
   "execution_count": 49,
   "metadata": {},
   "outputs": [
    {
     "data": {
      "text/plain": [
       "5050"
      ]
     },
     "execution_count": 49,
     "metadata": {},
     "output_type": "execute_result"
    }
   ],
   "source": [
    "# sum() takes a list and (if it contains numbers) adds them all up\n",
    "sum([1, 2, 3, 4, 5, 6])\n",
    "sum([i+1 for i in range(100)]) # add all numbers from 1-100"
   ]
  },
  {
   "cell_type": "markdown",
   "metadata": {},
   "source": [
    "## `enumerate()` function"
   ]
  },
  {
   "cell_type": "code",
   "execution_count": 59,
   "metadata": {},
   "outputs": [
    {
     "name": "stdout",
     "output_type": "stream",
     "text": [
      "Index: 0\n",
      "Item: dog\n",
      "-------\n",
      "Index: 1\n",
      "Item: cat\n",
      "-------\n",
      "Index: 2\n",
      "Item: rat\n",
      "-------\n",
      "Index: 3\n",
      "Item: bat\n",
      "-------\n",
      "Index: 0\n",
      "Item: dog\n",
      "-------\n",
      "Index: 1\n",
      "Item: cat\n",
      "-------\n",
      "Index: 2\n",
      "Item: rat\n",
      "-------\n",
      "Index: 3\n",
      "Item: bat\n",
      "-------\n"
     ]
    },
    {
     "data": {
      "text/plain": [
       "['dog', 'cat', 'rat', 'LAST ITEM']"
      ]
     },
     "execution_count": 59,
     "metadata": {},
     "output_type": "execute_result"
    }
   ],
   "source": [
    "some_list = [\"dog\", \"cat\", \"rat\", \"bat\"]\n",
    "enumerate(some_list)\n",
    "\n",
    "# iterate over the list and keep track of index\n",
    "for idx, item in enumerate(some_list):\n",
    "    print(f\"Index: {idx}\")\n",
    "    print(f\"Item: {item}\")\n",
    "    print(\"-------\")\n",
    "\n",
    "# print out the contents\n",
    "# BUT change the LAST Item in the list\n",
    "for idx, item in enumerate(some_list):\n",
    "    if idx == len(some_list)-1:\n",
    "        some_list[idx] = \"LAST ITEM\"\n",
    "    \n",
    "    print(f\"Index: {idx}\")\n",
    "    print(f\"Item: {item}\")\n",
    "    print(\"-------\")"
   ]
  },
  {
   "cell_type": "markdown",
   "metadata": {},
   "source": [
    "## Adding to a `list`\n",
    "This is the best way to add to a list.  \n",
    "Use the `.append()` method."
   ]
  },
  {
   "cell_type": "code",
   "execution_count": null,
   "metadata": {},
   "outputs": [],
   "source": [
    "student_list = [\n",
    "    [0, \"Mr. Ubial\"],\n",
    "    [1, \"Peter Parker\"]\n",
    "]\n",
    "\n",
    "print(student_list[-1])\n",
    "student_list.append([2, \"Otto Octavius\"])\n",
    "print(student_list[-1])"
   ]
  },
  {
   "cell_type": "markdown",
   "metadata": {},
   "source": [
    "## Deleting from a `list`\n",
    "Use the `.pop()` function.\n",
    "\n",
    "`.pop()` returns the value of the item in the list."
   ]
  },
  {
   "cell_type": "code",
   "execution_count": 60,
   "metadata": {
    "tags": []
   },
   "outputs": [
    {
     "data": {
      "text/plain": [
       "[2, 'Otto Octavius']"
      ]
     },
     "execution_count": 60,
     "metadata": {},
     "output_type": "execute_result"
    }
   ],
   "source": [
    "student_list = [\n",
    "    [0, \"Mr. Ubial\"],\n",
    "    [1, \"Peter Parker\"],\n",
    "    [2, \"Otto Octavius\"]\n",
    "]\n",
    "\n",
    "student_list.pop(2)"
   ]
  },
  {
   "cell_type": "markdown",
   "metadata": {},
   "source": [
    "## `str`s are just `list`s of characters"
   ]
  },
  {
   "cell_type": "code",
   "execution_count": 62,
   "metadata": {
    "tags": []
   },
   "outputs": [
    {
     "name": "stdout",
     "output_type": "stream",
     "text": [
      "T\n",
      "T i m "
     ]
    }
   ],
   "source": [
    "my_name = \"Tim\"\n",
    "print(my_name[0])\n",
    "\n",
    "for char in my_name:\n",
    "    print(char, end=\" \")"
   ]
  },
  {
   "cell_type": "markdown",
   "metadata": {},
   "source": [
    "## Slices of `list`s and `str`s"
   ]
  },
  {
   "cell_type": "code",
   "execution_count": 64,
   "metadata": {},
   "outputs": [
    {
     "data": {
      "text/plain": [
       "'9'"
      ]
     },
     "execution_count": 64,
     "metadata": {},
     "output_type": "execute_result"
    }
   ],
   "source": [
    "number_string = \"123456789\"\n",
    "\n",
    "# last element (character) in number_string\n",
    "number_string[-1]"
   ]
  },
  {
   "cell_type": "code",
   "execution_count": 66,
   "metadata": {},
   "outputs": [
    {
     "name": "stdout",
     "output_type": "stream",
     "text": [
      "564789\n",
      "1234\n"
     ]
    }
   ],
   "source": [
    "number_string = \"1234564789\"\n",
    "\n",
    "# slice the string\n",
    "# [start:stop:step]\n",
    "\n",
    "print(number_string[4:])    # characters starting at index 4 to the end\n",
    "print(number_string[:4])    # characters starting at beginning ending at 4 (exclusive) \n"
   ]
  },
  {
   "cell_type": "code",
   "execution_count": 67,
   "metadata": {},
   "outputs": [
    {
     "name": "stdout",
     "output_type": "stream",
     "text": [
      "13579\n"
     ]
    }
   ],
   "source": [
    "number_string = \"123456789\"\n",
    "\n",
    "print(number_string[::2])   # every second element starting at 1"
   ]
  },
  {
   "cell_type": "markdown",
   "metadata": {},
   "source": [
    "# Exercises"
   ]
  },
  {
   "cell_type": "markdown",
   "metadata": {},
   "source": [
    "## Comma Code\n",
    "\n",
    "From [Automate the Boring Stuff](https://automatetheboringstuff.com)\n",
    "\n",
    "Say you have a list value like this:\n",
    "\n",
    "`spam = ['apples', 'bananas', 'tofu', 'cats']`\n",
    "\n",
    "Write a function that takes a list value as an argument and returns a string with all the items separated by a comma and a space, with `and` inserted before the last item. For example, passing the previous spam list to the function would return 'apples, bananas, tofu, and cats'. But your function should be able to work with any list value passed to it. Be sure to test the case where an empty list `[]` is passed to your function."
   ]
  },
  {
   "cell_type": "code",
   "execution_count": 71,
   "metadata": {},
   "outputs": [
    {
     "name": "stdout",
     "output_type": "stream",
     "text": [
      "apples, bananas, tofu, and cats\n"
     ]
    }
   ],
   "source": [
    "spam = [\"apples\", \"bananas\", \"tofu\", \"cats\"]\n",
    "\n",
    "output_string = \"\"\n",
    "\n",
    "for idx, item in enumerate(spam):\n",
    "    if idx == len(spam)-1:\n",
    "        output_string += \"and \" + item\n",
    "    else:\n",
    "        output_string += item + \", \"\n",
    "\n",
    "print(output_string)\n",
    "\n",
    "\n",
    "\n",
    "# should output \n",
    "# \"apples, bananas, tofu, and cats\"\n",
    "# to start, try just outputting\n",
    "# \"apples, bananas, tofu, cats\""
   ]
  },
  {
   "cell_type": "markdown",
   "metadata": {},
   "source": [
    "## Months\n",
    "\n",
    "Print the three month abbreviation for the  \n",
    "month number that the user enters."
   ]
  },
  {
   "cell_type": "code",
   "execution_count": null,
   "metadata": {},
   "outputs": [],
   "source": [
    "# 1 -> Jan (using the list above)\n",
    "# 12 -> Dec\n",
    "\n",
    "# extending -> everything works and catch for any month_num that don't exist\n",
    "def month_abbrev(month_num):\n",
    "    months = \"JanFebMarAprMayJunJulAugSepOctNovDec\"\n",
    "\n",
    "    # fill in the body of the function\n",
    "\n",
    "month_abbrev(10) # Nov"
   ]
  }
 ],
 "metadata": {
  "kernelspec": {
   "display_name": "Python 3",
   "language": "python",
   "name": "python3"
  },
  "language_info": {
   "codemirror_mode": {
    "name": "ipython",
    "version": 3
   },
   "file_extension": ".py",
   "mimetype": "text/x-python",
   "name": "python",
   "nbconvert_exporter": "python",
   "pygments_lexer": "ipython3",
   "version": "3.8.2"
  }
 },
 "nbformat": 4,
 "nbformat_minor": 4
}
