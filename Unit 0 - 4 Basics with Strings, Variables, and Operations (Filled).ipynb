{
 "cells": [
  {
   "cell_type": "markdown",
   "metadata": {},
   "source": [
    "# Unit 0.4 - Basics"
   ]
  },
  {
   "cell_type": "markdown",
   "metadata": {},
   "source": [
    "# Strings and f-strings\n",
    "\n",
    "Strings are a datatype that are a collection of characters.\n",
    "\n",
    "We use `\"` (double quotes) to surround our strings.\n",
    "\n",
    "## What does f stand for?\n",
    "\n",
    "F stands for **fast**."
   ]
  },
  {
   "cell_type": "code",
   "execution_count": 2,
   "metadata": {},
   "outputs": [
    {
     "name": "stdout",
     "output_type": "stream",
     "text": [
      "This is a regular string.\n",
      "This is a fast string.\n",
      "You can do maths in f-strings!\n",
      "Do math inside braces: 21\n",
      "Do math the old way: 21\n"
     ]
    }
   ],
   "source": [
    "print(\"This is a regular string.\")\n",
    "\n",
    "print(f\"This is a fast string.\")\n",
    "print(f\"You can do maths in f-strings!\")\n",
    "\n",
    "print(f\"Do math inside braces: {1+20}\")\n",
    "print(\"Do math the old way: \" + str(1+20))"
   ]
  },
  {
   "cell_type": "markdown",
   "metadata": {},
   "source": [
    "## Operations in f-strings\n",
    "We use {} or **braces** to evaluate expressions inside of f-strings.\n",
    "\n",
    "### Using the Math Module\n",
    "We can import the Math module to help us calculate things\n",
    "\n",
    "https://docs.python.org/3/library/math.html\n"
   ]
  },
  {
   "cell_type": "code",
   "execution_count": 44,
   "metadata": {},
   "outputs": [
    {
     "name": "stdout",
     "output_type": "stream",
     "text": [
      "0.0\n",
      "The GCD of 10 and 688 is 2\n",
      "The square root of 24 is 4.898979485566356\n"
     ]
    }
   ],
   "source": [
    "# print(1 + 1)\n",
    "\n",
    "import math    # allows us to USE math by loading the module\n",
    "print(math.sin(0))\n",
    "print(f\"The GCD of 10 and 688 is {math.gcd(10, 688)}\")\n",
    "print(f\"The square root of 24 is {math.sqrt(24)}\")"
   ]
  },
  {
   "cell_type": "markdown",
   "metadata": {},
   "source": [
    "## String Slices"
   ]
  },
  {
   "cell_type": "code",
   "execution_count": 9,
   "metadata": {},
   "outputs": [
    {
     "name": "stdout",
     "output_type": "stream",
     "text": [
      " \n"
     ]
    }
   ],
   "source": [
    "# Substring\n",
    "#    012345678\n",
    "s = \"The quick brown fox jumps over the lazy dog.\"\n",
    "\n",
    "print(s[9])"
   ]
  },
  {
   "cell_type": "code",
   "execution_count": 14,
   "metadata": {},
   "outputs": [
    {
     "name": "stdout",
     "output_type": "stream",
     "text": [
      "T\n",
      ".\n",
      ".\n",
      "g\n"
     ]
    }
   ],
   "source": [
    "s = \"The quick brown fox jumps over the lazy dog.\"\n",
    "\n",
    "# First\n",
    "print(s[0])\n",
    "\n",
    "# Last\n",
    "print(s[43])\n",
    "print(s[-1]) # Last character\n",
    "print(s[-2]) # Second-last character"
   ]
  },
  {
   "cell_type": "code",
   "execution_count": 27,
   "metadata": {},
   "outputs": [
    {
     "name": "stdout",
     "output_type": "stream",
     "text": [
      "The\n",
      "quick\n",
      "brown\n",
      "The quick brown\n",
      "fox jumps over the lazy dog.\n",
      "dog.\n",
      "02468\n",
      "13579\n",
      "05\n",
      "9876543210\n"
     ]
    }
   ],
   "source": [
    "# Step\n",
    "#    012345678\n",
    "s = \"The quick brown fox jumps over the lazy dog.\"\n",
    "\n",
    "#      [first:last:step] \n",
    "print(s[0:3])   # The\n",
    "print(s[4:9])   # quick\n",
    "print(s[10:15]) # brown\n",
    "print(s[:15])\n",
    "print(s[16:])\n",
    "print(s[-4:])\n",
    "\n",
    "s = \"0123456789\"\n",
    "print(s[::2])\n",
    "print(s[1::2])\n",
    "print(s[::5])\n",
    "print(s[::-1]) # reverse string"
   ]
  },
  {
   "cell_type": "markdown",
   "metadata": {},
   "source": [
    "## Escape Sequences\n",
    "\n",
    "Sequence of characters that have a meaning besides the literal characters."
   ]
  },
  {
   "cell_type": "code",
   "execution_count": 35,
   "metadata": {},
   "outputs": [
    {
     "name": "stdout",
     "output_type": "stream",
     "text": [
      "This is one line.\n",
      "\n",
      "\n",
      "This is another line.\n",
      "This is one line.\n",
      "\n",
      "\n",
      "This is another line.\n",
      "First Entry\tSecond Entry\tThird Entry\n",
      "Blah\t\tBlah\t\tBlah\n",
      "The boys said, \"hello.\"\n",
      "The boys said, \"hello.\"\n"
     ]
    }
   ],
   "source": [
    "# \\n - newline\n",
    "print(\"This is one line.\\n\\n\\nThis is another line.\")\n",
    "\n",
    "print(\"\"\"This is one line.\n",
    "\n",
    "\n",
    "This is another line.\"\"\")\n",
    "\n",
    "# \\t - tab\n",
    "print(\"First Entry\\tSecond Entry\\tThird Entry\")\n",
    "print(\"Blah\\t\\tBlah\\t\\tBlah\")\n",
    "\n",
    "# \\\" - inserts a literal double quote\n",
    "print(\"The boys said, \\\"hello.\\\"\")\n",
    "print('The boys said, \"hello.\"')"
   ]
  },
  {
   "cell_type": "markdown",
   "metadata": {},
   "source": [
    "# Variables"
   ]
  },
  {
   "cell_type": "markdown",
   "metadata": {},
   "source": [
    "`=` -- assignment operator"
   ]
  },
  {
   "cell_type": "code",
   "execution_count": null,
   "metadata": {},
   "outputs": [],
   "source": [
    "message = \"Your time is up.\"\n",
    "\n",
    "# How do you properly name variables\n",
    "# Name them starting with a lowercase letter\n",
    "# Use underscores for spaces in names\n",
    "# Names of variables should be descriptive\n",
    "# e.g. Abraham Lincoln's birthday\n",
    "abe_lincolns_birthday = \"February 12, 1809\"\n",
    "a_l_bday = \"February 12, 1809\" # don't do this\n",
    "\n",
    "# obfuscated code\n",
    "\n",
    "# constants should be named with CAPS\n",
    "MAX_HEALTH = 100\n",
    "MAX_MP     = 150"
   ]
  },
  {
   "cell_type": "markdown",
   "metadata": {},
   "source": [
    "## Reassignment\n",
    "\n",
    "Give an existing variable a new value."
   ]
  },
  {
   "cell_type": "code",
   "execution_count": 36,
   "metadata": {},
   "outputs": [
    {
     "name": "stdout",
     "output_type": "stream",
     "text": [
      "Ubial\n",
      "Bruce Wayne\n"
     ]
    }
   ],
   "source": [
    "# Reassignment\n",
    "name = \"Ubial\"\n",
    "print(name)\n",
    "\n",
    "name = \"Bruce Wayne\"\n",
    "print(name)"
   ]
  },
  {
   "cell_type": "code",
   "execution_count": 40,
   "metadata": {},
   "outputs": [
    {
     "name": "stdout",
     "output_type": "stream",
     "text": [
      "Ubial\n"
     ]
    }
   ],
   "source": [
    "# Assigning a variable to another variable\n",
    "name = \"Ubial\"\n",
    "teacher = name\n",
    "\n",
    "print(teacher)"
   ]
  },
  {
   "cell_type": "markdown",
   "metadata": {},
   "source": [
    "## Updating Variables\n",
    "\n",
    "Updating the value of a variable"
   ]
  },
  {
   "cell_type": "code",
   "execution_count": 43,
   "metadata": {},
   "outputs": [
    {
     "name": "stdout",
     "output_type": "stream",
     "text": [
      "12\n",
      "11.0\n"
     ]
    }
   ],
   "source": [
    "number_of_hats = 10\n",
    "\n",
    "number_of_hats = number_of_hats + 1\n",
    "number_of_hats += 1 # increment\n",
    "print(number_of_hats)\n",
    "\n",
    "number_of_hats -= 1 # decrement\n",
    "number_of_hats *= 2 \n",
    "number_of_hats /= 2\n",
    "print(number_of_hats)\n",
    "\n",
    "# increment, decrement, multiplication, and division"
   ]
  },
  {
   "cell_type": "markdown",
   "metadata": {},
   "source": [
    "## Datatypes\n",
    "### What are some datatypes that we've seen?"
   ]
  },
  {
   "cell_type": "code",
   "execution_count": 5,
   "metadata": {},
   "outputs": [
    {
     "name": "stdout",
     "output_type": "stream",
     "text": [
      "Jupiter\n",
      "10\n"
     ]
    }
   ],
   "source": [
    "# String\n",
    "\"Tim\"\n",
    "# f-strings\n",
    "f\"Ubial\"\n",
    "\n",
    "\n",
    "# OTHER DATATYPES\n",
    "10              # number -> integer (whole)\n",
    "10.0            # number -> float\n",
    "\n",
    "False\n",
    "True                                # boolean values\n",
    "[\"John\", \"Jennifer\", \"William\"]     # list\n",
    "\n",
    "#          key   : value      key    : val\n",
    "student = {\"name\": \"Jupiter\", \"grade\": 10, \"age\":15}                        # dictionary (like a list but Key-Value pairs)\n",
    "\n",
    "print(student[\"name\"])\n",
    "print(student[\"grade\"])"
   ]
  },
  {
   "cell_type": "markdown",
   "metadata": {},
   "source": [
    "### Casting\n",
    "What do we do to force Python to look at a string like it's a number?"
   ]
  },
  {
   "cell_type": "code",
   "execution_count": 8,
   "metadata": {},
   "outputs": [
    {
     "name": "stdout",
     "output_type": "stream",
     "text": [
      "21\n",
      "165\n"
     ]
    }
   ],
   "source": [
    "age = \"16\"         # string\n",
    "# add 5 to the age\n",
    "# print(age + 5)     # 5 is an int\n",
    "\n",
    "# use a cast to force a value into another type\n",
    "print(int(age) + 5)  # int + int\n",
    "print(age + str(5))  # str + str"
   ]
  },
  {
   "cell_type": "code",
   "execution_count": 14,
   "metadata": {},
   "outputs": [
    {
     "name": "stdout",
     "output_type": "stream",
     "text": [
      "<class 'str'>\n",
      "<class 'int'>\n",
      "<class 'float'>\n",
      "<class 'list'>\n",
      "<class 'dict'>\n",
      "<class 'bool'>\n"
     ]
    }
   ],
   "source": [
    "# type() function\n",
    "age = \"15\"\n",
    "print(type(age))\n",
    "\n",
    "age = 15\n",
    "print(type(age))\n",
    "\n",
    "age = 15.0\n",
    "print(type(age))\n",
    "\n",
    "age = [15.0]\n",
    "print(type(age))\n",
    "\n",
    "age = {\"age\": 15}\n",
    "print(type(age))\n",
    "\n",
    "age = False\n",
    "print(type(age))"
   ]
  },
  {
   "cell_type": "code",
   "execution_count": 17,
   "metadata": {},
   "outputs": [
    {
     "name": "stdout",
     "output_type": "stream",
     "text": [
      "BLAAAAAAH!BLAAAAAAH!BLAAAAAAH!BLAAAAAAH!BLAAAAAAH!BLAAAAAAH!BLAAAAAAH!BLAAAAAAH!BLAAAAAAH!BLAAAAAAH!\n",
      "BLAAAAAAH!BLAAAAAAH!\n"
     ]
    }
   ],
   "source": [
    "# Mixing datatypes\n",
    "exclamation = \"BLAAAAAAH!\"\n",
    "\n",
    "print(exclamation * 10)\n",
    "print(exclamation * 2)"
   ]
  },
  {
   "cell_type": "markdown",
   "metadata": {},
   "source": [
    "# Statements and Expressions\n",
    "\n",
    "A **statement** is an instruction that Python can execute.  \n",
    "> Assignment (when we assign a value to a variable) is  \n",
    "a **statement**.\n",
    "\n",
    "> e.g. `date_of_birth = \"January 22\"`\n",
    "\n",
    "An **expression** is a statement that MUST BE EVALUATED.\n",
    "> e.g. `date_of_birth_and_year = date_of_birth + \" 2020\"`"
   ]
  },
  {
   "cell_type": "markdown",
   "metadata": {},
   "source": [
    "# Order of Operations\n",
    "\n",
    "BEDMAS\n",
    "1. Brackets\n",
    "2. Exponents\n",
    "3. Division and Multiplication\n",
    "4. The rest\n",
    "\n",
    "Evaluates from left-to-right, inside-to-outside"
   ]
  },
  {
   "cell_type": "code",
   "execution_count": 18,
   "metadata": {},
   "outputs": [
    {
     "name": "stdout",
     "output_type": "stream",
     "text": [
      "144.0\n",
      "144\n",
      "144\n",
      "144\n",
      "144\n"
     ]
    }
   ],
   "source": [
    "# E.g.\n",
    "\n",
    "equation = (4 + (23 - 4 + (32 / 2)) * 4)\n",
    "\n",
    "# Evaluation step-by-step\n",
    "print(4 + (23 - 4 + (32 / 2)) * 4)\n",
    "print(4 + (23 - 4 + 16      ) * 4)\n",
    "print(4 + 35                  * 4)\n",
    "print(4 + 140)\n",
    "print(144)"
   ]
  },
  {
   "cell_type": "code",
   "execution_count": 29,
   "metadata": {},
   "outputs": [
    {
     "name": "stdout",
     "output_type": "stream",
     "text": [
      "27\n",
      "3.3333333333333335\n",
      "3\n",
      "1\n",
      "2\n",
      "\n",
      "0\n",
      "1\n",
      "0\n",
      "1\n",
      "0\n",
      "1\n",
      "0\n"
     ]
    }
   ],
   "source": [
    "# Other Operators\n",
    "\n",
    "# Exponents **\n",
    "# e.g. 3 ^ 3\n",
    "print(3 ** 3)\n",
    "\n",
    "# Floor division // (gives the result in an int)\n",
    "print(10 / 3)\n",
    "print(10 // 3)\n",
    "\n",
    "# Find the remainder % Modulo\n",
    "print(10 % 3)   # 3r1\n",
    "print(11 % 3)   # 3r2\n",
    "\n",
    "# e.g. use of Modulo -- calculating if something is divisible\n",
    "# Definition of an even number is if you can\n",
    "# divide the number by two evenly\n",
    "print()\n",
    "print(2 % 2)\n",
    "print(3 % 2)\n",
    "print(4 % 2)\n",
    "print(5 % 2)\n",
    "print(6 % 2)\n",
    "print(1023045 % 2)\n",
    "\n",
    "print(1023050 % 7)"
   ]
  },
  {
   "cell_type": "markdown",
   "metadata": {},
   "source": [
    "## Input\n",
    "### How do we get input from a user?"
   ]
  },
  {
   "cell_type": "code",
   "execution_count": 31,
   "metadata": {},
   "outputs": [
    {
     "name": "stdout",
     "output_type": "stream",
     "text": [
      "What's your name?\n"
     ]
    },
    {
     "name": "stdin",
     "output_type": "stream",
     "text": [
      " Jupiter\n"
     ]
    },
    {
     "name": "stdout",
     "output_type": "stream",
     "text": [
      "Hello, Jupiter!\n",
      "Nice to meet you.\n"
     ]
    }
   ],
   "source": [
    "# Use the input() function\n",
    "print(\"What's your name?\")\n",
    "\n",
    "user_name = input() # string\n",
    "\n",
    "print(f\"Hello, {user_name}!\")\n",
    "print(\"Nice to meet you.\")"
   ]
  },
  {
   "cell_type": "markdown",
   "metadata": {},
   "source": [
    "---\n",
    "---\n",
    "# Practice\n",
    "Take some time to work through the examples below for practice."
   ]
  },
  {
   "cell_type": "markdown",
   "metadata": {
    "tags": []
   },
   "source": [
    "## Fahrenheit to Celsius\n",
    "Create a program that asks the user for a temperature in Fahrenheit, and then prints the temperature in Celsius.\n",
    "\n",
    "The formula for conversion is:  \n",
    "`C = (F − 32) × 5/9 `"
   ]
  },
  {
   "cell_type": "code",
   "execution_count": null,
   "metadata": {},
   "outputs": [],
   "source": [
    "print(\"What's the temperature you want to convert in celsius?\")\n",
    "temp_c"
   ]
  },
  {
   "cell_type": "markdown",
   "metadata": {},
   "source": [
    "## Radius of Circle\n",
    "\n",
    "Create a program that takes the radius of a circle and calculates its area.\n",
    "\n",
    "The formula to calculate the area is:  \n",
    "`A = pi * r ^ 2`  \n",
    "\n",
    "Note:  \n",
    "In order to use pi, **import the math module**.  \n",
    "It has the constant, pi, that you can use.\n",
    "You can use it by using `math.pi`."
   ]
  },
  {
   "cell_type": "code",
   "execution_count": null,
   "metadata": {},
   "outputs": [],
   "source": []
  },
  {
   "cell_type": "markdown",
   "metadata": {},
   "source": [
    "## Compound Interest\n",
    "\n",
    "![Compound Interest](http://www.ourpursuitofperfection.com/wp-content/uploads/2017/06/compound-interest-formula-diagram.png)\n",
    "\n",
    "Write a Python program that has a **principal amount of 15000**, **compounds monthly** (n = 12), and has an **interest rate of 8%** (0.08). Then have the program ask the user for the number of years, t. Calculate and print the final amount after t years."
   ]
  },
  {
   "cell_type": "code",
   "execution_count": null,
   "metadata": {},
   "outputs": [],
   "source": []
  },
  {
   "cell_type": "markdown",
   "metadata": {},
   "source": [
    "## Evaluating Expressions\n",
    "\n",
    "Evaluate the following expressions in your head. Use the code cell below to see if you're correct.\n",
    "\n",
    "    5 ** 2\n",
    "\n",
    "    9 * 5\n",
    "\n",
    "    15 / 12\n",
    "\n",
    "    12 / 15\n",
    "\n",
    "    15 // 12\n",
    "\n",
    "    12 // 15\n",
    "\n",
    "    5 % 2\n",
    "\n",
    "    9 % 5\n",
    "\n",
    "    15 % 12\n",
    "\n",
    "    12 % 15\n",
    "\n",
    "    6 % 6\n",
    "\n",
    "    0 % 7\n"
   ]
  },
  {
   "cell_type": "code",
   "execution_count": null,
   "metadata": {},
   "outputs": [],
   "source": []
  },
  {
   "cell_type": "markdown",
   "metadata": {},
   "source": [
    "## Order of Operations\n",
    "\n",
    "Evaluate the following expression using the proper order of operations used in Python.\n",
    "\n",
    "2 + (3 - 1) * 10 / 5 * (2 + 3)"
   ]
  },
  {
   "cell_type": "code",
   "execution_count": null,
   "metadata": {},
   "outputs": [],
   "source": []
  },
  {
   "cell_type": "markdown",
   "metadata": {},
   "source": [
    "## Translating Time and Alarms\n",
    "\n",
    "_Problem_: In Europe, time is generally told using the 24h clock (e.g. 11:00 is 11:00am and 23:00 is 11:00pm, 00:00 is midnight). Using this standard of time, if it is 13:00 and you set your alarm to go off in 50 hours, it will be 15:00 (3:00pm).\n",
    "\n",
    "Write a Python program in the code cell below to solve the general version of the above problem.  \n",
    "Ask the user for the time now (in hours), and then ask for the number of hours to wait for the alarm.  \n",
    "Your program should output what the time will be on the clock when the alarm goes off."
   ]
  },
  {
   "cell_type": "code",
   "execution_count": null,
   "metadata": {},
   "outputs": [],
   "source": []
  }
 ],
 "metadata": {
  "kernelspec": {
   "display_name": "Python 3 (ipykernel)",
   "language": "python",
   "name": "python3"
  },
  "language_info": {
   "codemirror_mode": {
    "name": "ipython",
    "version": 3
   },
   "file_extension": ".py",
   "mimetype": "text/x-python",
   "name": "python",
   "nbconvert_exporter": "python",
   "pygments_lexer": "ipython3",
   "version": "3.8.9"
  }
 },
 "nbformat": 4,
 "nbformat_minor": 4
}
