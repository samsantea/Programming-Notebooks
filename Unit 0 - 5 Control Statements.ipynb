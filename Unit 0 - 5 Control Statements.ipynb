{
 "cells": [
  {
   "cell_type": "markdown",
   "metadata": {},
   "source": [
    "# Control Statements\n",
    "\n",
    "![Hello!](https://media.giphy.com/media/ASd0Ukj0y3qMM/giphy.gif)"
   ]
  },
  {
   "cell_type": "markdown",
   "metadata": {},
   "source": [
    "# Skills\n",
    "* understand if statements\n",
    "* understand why we use elif instead of else in some cases"
   ]
  },
  {
   "cell_type": "markdown",
   "metadata": {},
   "source": [
    "## `if` statements\n",
    "We can branch code using contr\n",
    "ol statements.  \n",
    "We can do that using `if` statements.\n",
    "\n",
    "![Branching from https://programarcadegames.com](http://programarcadegames.com/chapters/03_if_statements/flowchart1_thumb.png)"
   ]
  },
  {
   "cell_type": "code",
   "execution_count": 3,
   "metadata": {
    "tags": []
   },
   "outputs": [
    {
     "name": "stdin",
     "output_type": "stream",
     "text": [
      "First Value:  5\n",
      "Second Value:  2\n"
     ]
    },
    {
     "name": "stdout",
     "output_type": "stream",
     "text": [
      "b is less than a.\n",
      "Done.\n"
     ]
    }
   ],
   "source": [
    "# ask the user for two values:\n",
    "# floats are decimal numbers\n",
    "# cast numbers as floats or ints\n",
    "a = float(input('First Value: '))\n",
    "b = float(input('Second Value: '))\n",
    "\n",
    "if a < b:\n",
    "    print(\"a is less than b.\")\n",
    "if b < a:\n",
    "    print(\"b is less than a.\")\n",
    "\n",
    "print(\"Done.\")"
   ]
  },
  {
   "cell_type": "markdown",
   "metadata": {},
   "source": [
    "## `elif` and `else` "
   ]
  },
  {
   "cell_type": "code",
   "execution_count": 7,
   "metadata": {},
   "outputs": [
    {
     "name": "stdin",
     "output_type": "stream",
     "text": [
      "Enter a number:  101\n"
     ]
    },
    {
     "name": "stdout",
     "output_type": "stream",
     "text": [
      "You got so many points.\n",
      "Awesome work!\n"
     ]
    }
   ],
   "source": [
    "# get input from user\n",
    "x = float(input('Enter a number: '))\n",
    "\n",
    "if x > 100:\n",
    "    print(\"You got so many points.\")\n",
    "    print(\"Awesome work!\")\n",
    "elif x > 90:\n",
    "    print(\"You got lots of points.\")\n",
    "    print(\"Well done!\")\n",
    "elif x > 70:\n",
    "    print(\"You got points.\")\n",
    "    print(\"Good job.\")\n",
    "elif x > 50:\n",
    "    print(\"You'll get it next time!\")\n",
    "else:\n",
    "    print(\"You need to practice a little more.\")\n",
    "    \n",
    "# need to start from biggest, starting from 50 = bug"
   ]
  },
  {
   "cell_type": "markdown",
   "metadata": {},
   "source": [
    "## Booleans\n",
    "\n",
    "**Booleans** are a _**datatype**_.  \n",
    "Their values are either `True` or `False` in Python.\n",
    "\n",
    "Note:  \n",
    "Know the distinction between `'True'` and `True`  \n",
    "and equally `'False'` and `False`"
   ]
  },
  {
   "cell_type": "markdown",
   "metadata": {},
   "source": [
    "### _Aside: Checking Data Types_\n",
    "\n",
    "If you want to check the type of data, use, the function `type()`."
   ]
  },
  {
   "cell_type": "code",
   "execution_count": 4,
   "metadata": {},
   "outputs": [
    {
     "data": {
      "text/plain": [
       "bool"
      ]
     },
     "execution_count": 4,
     "metadata": {},
     "output_type": "execute_result"
    }
   ],
   "source": [
    "type(True)"
   ]
  },
  {
   "cell_type": "code",
   "execution_count": 3,
   "metadata": {},
   "outputs": [
    {
     "data": {
      "text/plain": [
       "str"
      ]
     },
     "execution_count": 3,
     "metadata": {},
     "output_type": "execute_result"
    }
   ],
   "source": [
    "type(\"True\")"
   ]
  },
  {
   "cell_type": "markdown",
   "metadata": {},
   "source": [
    "## Boolean Expressions\n",
    "\n",
    "Boolean expressions are operations that evaluate to booleans."
   ]
  },
  {
   "cell_type": "code",
   "execution_count": 11,
   "metadata": {},
   "outputs": [
    {
     "name": "stdout",
     "output_type": "stream",
     "text": [
      "You'll need an umbrella.\n"
     ]
    }
   ],
   "source": [
    "# Boolean operators parralel to mathematical operators like + and -\n",
    "is_raining = True\n",
    "is_cloudy = False\n",
    "\n",
    "# T or F\n",
    "# Both sides must be true\n",
    "\n",
    "if is_raining and is_cloudy or is_raining:\n",
    "    print(\"You'll need an umbrella.\")\n",
    "elif is_cloudy and not is_raining:\n",
    "    print(\"An umbrella is a good idea.\")\n",
    "else:\n",
    "    print(\"Leave your umbrella at home.\")"
   ]
  },
  {
   "cell_type": "markdown",
   "metadata": {},
   "source": [
    "## Boolean Variables\n",
    "\n",
    "Variables can be booleans as well."
   ]
  },
  {
   "cell_type": "code",
   "execution_count": null,
   "metadata": {},
   "outputs": [],
   "source": [
    "has_quest_item_one = False\n"
   ]
  },
  {
   "cell_type": "markdown",
   "metadata": {},
   "source": [
    "## Boolean Operators\n",
    "\n",
    "### Using `not`\n",
    "`not` is a unary operator  \n",
    "You only need **one operand**."
   ]
  },
  {
   "cell_type": "code",
   "execution_count": 14,
   "metadata": {},
   "outputs": [
    {
     "data": {
      "text/plain": [
       "False"
      ]
     },
     "execution_count": 14,
     "metadata": {},
     "output_type": "execute_result"
    }
   ],
   "source": [
    "True\n",
    "\n",
    "not True"
   ]
  },
  {
   "cell_type": "markdown",
   "metadata": {},
   "source": [
    "### Using `and` and `or`\n",
    "`and` and `or` are binary operators.  \n",
    "You need **two operands** to use them.\n",
    "\n",
    "|AND  |True |False|\n",
    "|---  |---  |---  |\n",
    "|True |True |False|\n",
    "|False|False|False|\n",
    "\n",
    "|OR   |True|False|\n",
    "|---  |--- |---  |\n",
    "|True |True|True |\n",
    "|False|True|False|"
   ]
  },
  {
   "cell_type": "code",
   "execution_count": 16,
   "metadata": {},
   "outputs": [
    {
     "data": {
      "text/plain": [
       "False"
      ]
     },
     "execution_count": 16,
     "metadata": {},
     "output_type": "execute_result"
    }
   ],
   "source": [
    "False and False"
   ]
  },
  {
   "cell_type": "code",
   "execution_count": 17,
   "metadata": {},
   "outputs": [
    {
     "data": {
      "text/plain": [
       "True"
      ]
     },
     "execution_count": 17,
     "metadata": {},
     "output_type": "execute_result"
    }
   ],
   "source": [
    "False or True"
   ]
  },
  {
   "cell_type": "code",
   "execution_count": 18,
   "metadata": {},
   "outputs": [
    {
     "data": {
      "text/plain": [
       "False"
      ]
     },
     "execution_count": 18,
     "metadata": {},
     "output_type": "execute_result"
    }
   ],
   "source": [
    "False or False"
   ]
  },
  {
   "cell_type": "markdown",
   "metadata": {},
   "source": [
    "---\n",
    "# Practice Questions"
   ]
  },
  {
   "cell_type": "markdown",
   "metadata": {},
   "source": [
    "## 1. What's missing from this code?"
   ]
  },
  {
   "cell_type": "code",
   "execution_count": 22,
   "metadata": {},
   "outputs": [
    {
     "name": "stdin",
     "output_type": "stream",
     "text": [
      "Temperature:  100.53\n"
     ]
    },
    {
     "name": "stdout",
     "output_type": "stream",
     "text": [
      "It is hot outside.\n"
     ]
    }
   ],
   "source": [
    "temperature = float(input(f'Temperature: '))\n",
    "if temperature > 90:\n",
    "    print(f'It is hot outside.')\n",
    "else:\n",
    "    print(f'It is not hot out.')\n",
    "    \n",
    "# a float or int must be casted on the input for temperature."
   ]
  },
  {
   "cell_type": "markdown",
   "metadata": {},
   "source": [
    "## 2. What do you think this next code will print out?\n",
    "**Before you run the code,** take your best guess as to what it will print out.  \n",
    "Put your guess here:  "
   ]
  },
  {
   "cell_type": "code",
   "execution_count": 13,
   "metadata": {},
   "outputs": [
    {
     "name": "stdout",
     "output_type": "stream",
     "text": [
      "x=5\n",
      "y=False\n",
      "z=True\n",
      "Buzz\n"
     ]
    }
   ],
   "source": [
    "x = 5\n",
    "y = x == 6 # False\n",
    "z = x == 5 # True\n",
    "print(f'x={x}') # 5            # equality -> ==\n",
    "print(f'y={y}') # False\n",
    "print(f'z={z}') # True\n",
    "if y:\n",
    "    print(f'Fizz') \n",
    "if z:\n",
    "    print(f'Buzz')\n",
    "    \n",
    "# Prints Buzz"
   ]
  },
  {
   "cell_type": "markdown",
   "metadata": {},
   "source": [
    "## 3. What do you think this code will print out?\n",
    "Again, **take an educated guess before running the code.**  \n",
    "Put your answers in inline comments beside the line of code.  \n",
    "There's an example below.\n",
    "If you're guess isn't right, try and figure out why it outputs what it does."
   ]
  },
  {
   "cell_type": "code",
   "execution_count": 26,
   "metadata": {},
   "outputs": [
    {
     "data": {
      "text/plain": [
       "True"
      ]
     },
     "execution_count": 26,
     "metadata": {},
     "output_type": "execute_result"
    }
   ],
   "source": [
    "# Not equals !=\n",
    "\n",
    "3 != 1000"
   ]
  },
  {
   "cell_type": "code",
   "execution_count": 27,
   "metadata": {},
   "outputs": [
    {
     "name": "stdout",
     "output_type": "stream",
     "text": [
      "True\n",
      "False\n",
      "True\n",
      "True\n",
      "True\n",
      "False\n",
      "False\n",
      "True\n"
     ]
    },
    {
     "ename": "TypeError",
     "evalue": "'<' not supported between instances of 'int' and 'str'",
     "output_type": "error",
     "traceback": [
      "\u001b[0;31m---------------------------------------------------------------------------\u001b[0m",
      "\u001b[0;31mTypeError\u001b[0m                                 Traceback (most recent call last)",
      "\u001b[0;32m/var/folders/j3/8wmm36kd7ln6mn5fp4q3jksh0000gx/T/ipykernel_52005/700633889.py\u001b[0m in \u001b[0;36m<module>\u001b[0;34m\u001b[0m\n\u001b[1;32m      7\u001b[0m \u001b[0mprint\u001b[0m\u001b[0;34m(\u001b[0m \u001b[0;34m(\u001b[0m\u001b[0;36m2\u001b[0m \u001b[0;34m==\u001b[0m \u001b[0;36m2\u001b[0m\u001b[0;34m)\u001b[0m \u001b[0;34m==\u001b[0m \u001b[0;34m\"True\"\u001b[0m \u001b[0;34m)\u001b[0m \u001b[0;31m# Will say False\u001b[0m\u001b[0;34m\u001b[0m\u001b[0;34m\u001b[0m\u001b[0m\n\u001b[1;32m      8\u001b[0m \u001b[0mprint\u001b[0m\u001b[0;34m(\u001b[0m \u001b[0;34m(\u001b[0m\u001b[0;36m2\u001b[0m \u001b[0;34m==\u001b[0m \u001b[0;36m2\u001b[0m\u001b[0;34m)\u001b[0m \u001b[0;34m==\u001b[0m \u001b[0;32mTrue\u001b[0m \u001b[0;34m)\u001b[0m    \u001b[0;31m#True\u001b[0m\u001b[0;34m\u001b[0m\u001b[0;34m\u001b[0m\u001b[0m\n\u001b[0;32m----> 9\u001b[0;31m \u001b[0mprint\u001b[0m\u001b[0;34m(\u001b[0m\u001b[0;36m3\u001b[0m \u001b[0;34m<\u001b[0m \u001b[0;34m\"3\"\u001b[0m\u001b[0;34m)\u001b[0m       \u001b[0;31m# Breaks because of different types!\u001b[0m\u001b[0;34m\u001b[0m\u001b[0;34m\u001b[0m\u001b[0m\n\u001b[0m",
      "\u001b[0;31mTypeError\u001b[0m: '<' not supported between instances of 'int' and 'str'"
     ]
    }
   ],
   "source": [
    "print(\"3\" == \"3\")           #True\n",
    "print(\" 3\" == \"3\")        # Will say False\n",
    "print(3 < 4)                #True\n",
    "print(3 < 10)               #True\n",
    "print(\"3\" < \"4\")        # Will say False - says True because 3 occurs before 4 - gotchas (unpredictable yet work with intent)\n",
    "print(\"3\" < \"10\")       # Will Say False due to fewer characters- gotchas (unpredictable yet work with intent)   \n",
    "print( (2 == 2) == \"True\" ) # Will say False\n",
    "print( (2 == 2) == True )    #True\n",
    "print(3 < \"3\")       # Breaks because of different types!\n"
   ]
  },
  {
   "cell_type": "markdown",
   "metadata": {},
   "source": [
    "---\n",
    "# Problem Set\n",
    "\n",
    "Create your own quiz with five or more questions. You can ask questions that require:\n",
    "1. a number as an answer (e.g., What is 1+1?)\n",
    "2. text (e.g. What is Harry Potter's last name?)\n",
    "3. a selection (Which of these choices are correct? A, B, or C?) \n",
    "\n",
    "If you have the user enter non-numeric answers, think and cover the different ways a user could enter a correct answer. For example, if the answer is “a”, would “A” also be acceptable? \n",
    "1. Let the user know if he or she gets the question correct. Print a message depending on the user's answer.\n",
    "2. You need to keep track of how many questions they get correct.\n",
    "3. At the end of the program print the percentage of questions the user gets right."
   ]
  },
  {
   "cell_type": "code",
   "execution_count": null,
   "metadata": {},
   "outputs": [],
   "source": [
    "# Import the time module to make the quiz more dramatic!\n",
    "import time\n",
    "\n",
    "# The quiz_score variable will store the user's points.\n",
    "quiz_score = 0\n",
    "\n",
    "# Greet the user and get the user's name\n",
    "name = input(f\"Good day! I'm the BTS quiz bot. What's your name?\")\n",
    "\n",
    "# Introduce the quiz\n",
    "print(f\"Hello, {name}! I'm going to ask you a few questions about BTS today.\")\n",
    "\n",
    "# Ask if the user is ready to start the quiz.\n",
    "start_quiz = input(\"Are you ready?\\nY/N\")\n",
    "\n",
    "if start_quiz.lower() in [\"y\", \"yes\"]:\n",
    "    # If the user says he/she is ready, run the quiz\n",
    "    run_quiz = True\n",
    "else:\n",
    "    # If the user is not ready, do not run the quiz\n",
    "    run_quiz = False\n",
    "    print(\"Okay, see you later!\")\n",
    "\n",
    "# If the run quiz variable is true, the quiz will begin.\n",
    "while run_quiz:\n",
    "    print(\"Question #1!\")\n",
    "    # Ask the question and create a variable to store the user's answer\n",
    "    anniversary_answer = input(\"What month is the anniversary of BTS?\")\n",
    "\n",
    "    if anniversary_answer.lower() == \"june\":\n",
    "        # if the user's answer is correct, let him/her know and add a point to the quiz score.\n",
    "        print(\"Correct!\")\n",
    "        quiz_score += 1\n",
    "    else:\n",
    "        # Else, let the user know the answer was wrong.\n",
    "        print(\"Incorrect.\")\n",
    "\n",
    "    print(\"Question #2!\")\n",
    "    # Ask the question and create a variable to store the user's answer\n",
    "    youngest_answer = input(\"What is the first name of the youngest member in BTS?\")\n",
    "\n",
    "    if youngest_answer.lower() == \"jungkook\":\n",
    "        # if the user's answer is correct, let him/her know and add a point to the quiz score.\n",
    "        print(\"Correct!\")\n",
    "        # Else, let the user know the answer was wrong.\n",
    "        quiz_score += 1\n",
    "    else:\n",
    "        print(\"Incorrect.\")\n",
    "    \n",
    "    print(\"Question #3!\")\n",
    "    # Ask the question and create a variable to store the user's answer\n",
    "    recent_song_answer = input(\"What is the most recent song BTS released?\")\n",
    "\n",
    "    if recent_song_answer.lower() == \"permission to dance\":\n",
    "        # if the user's answer is correct, let him/her know and add a point to the quiz score.\n",
    "        print(\"Correct!\")\n",
    "        # Else, let the user know the answer was wrong.\n",
    "        quiz_score += 1\n",
    "    else:\n",
    "        print(\"Incorrect.\")\n",
    "\n",
    "    print(\"Question #4!\")\n",
    "    # Ask the question and create a variable to store the user's answer\n",
    "    members_count_answer = input(\"How many members are there in BTS?\")\n",
    "\n",
    "    if members_count_answer == \"7\":\n",
    "        # if the user's answer is correct, let him/her know and add a point to the quiz score.\n",
    "        print(\"Correct!\")\n",
    "        # Else, let the user know the answer was wrong.\n",
    "        quiz_score += 1\n",
    "    else:\n",
    "        print(\"Incorrect.\")\n",
    "\n",
    "    print(\"Final question!\")\n",
    "    # Ask the question and create a variable to store the user's answer\n",
    "    name_meaning_answer = input(\"Finally, what is the English translation of BTS' full name?\")\n",
    "\n",
    "    if name_meaning_answer.lower() == \"bulletproof boy scouts\":\n",
    "        # if the user's answer is correct, let him/her know and add a point to the quiz score.\n",
    "        print(\"Correct!\")\n",
    "        # Else, let the user know the answer was wrong.\n",
    "        quiz_score += 1\n",
    "    else:\n",
    "        print(\"Incorrect.\")\n",
    "\n",
    "    # Thank the user for taking the quiz and share the score.\n",
    "    print(\"Thanks for taking my quiz! Your score is...\")\n",
    "    time.sleep(5)\n",
    "    print(f\"{str(quiz_score)}/5!\")\n",
    "\n",
    "    # React differently based on the user's score.\n",
    "    if quiz_score > 4:\n",
    "        print(\"Wow! You're a BTS genius!\")\n",
    "    elif quiz_score > 3:\n",
    "        print(\"Great work!\")\n",
    "    elif quiz_score > 2:\n",
    "        print(\"Good job.\")\n",
    "    elif quiz_score > 1:\n",
    "        print(\"Don't worry, it happens to all of us.\")\n",
    "    elif quiz_score > 0:\n",
    "        print(\"At least you tried...\")\n",
    "    else:\n",
    "        print(\"Do you even know who BTS is?\")\n",
    "    run_quiz = False"
   ]
  },
  {
   "cell_type": "markdown",
   "metadata": {},
   "source": [
    "# Requirements\n",
    "\n",
    "* Has five or more questions \n",
    "* Give the user feedback per question \n",
    "* Keep track of correct answers\n",
    "* Give them their outcome at the end\n",
    "* Should follow *style guidelines* for naming of variables and use of whitespace -- **READABILITY**"
   ]
  },
  {
   "cell_type": "code",
   "execution_count": null,
   "metadata": {},
   "outputs": [],
   "source": []
  }
 ],
 "metadata": {
  "kernelspec": {
   "display_name": "Python 3 (ipykernel)",
   "language": "python",
   "name": "python3"
  },
  "language_info": {
   "codemirror_mode": {
    "name": "ipython",
    "version": 3
   },
   "file_extension": ".py",
   "mimetype": "text/x-python",
   "name": "python",
   "nbconvert_exporter": "python",
   "pygments_lexer": "ipython3",
   "version": "3.8.9"
  }
 },
 "nbformat": 4,
 "nbformat_minor": 4
}
